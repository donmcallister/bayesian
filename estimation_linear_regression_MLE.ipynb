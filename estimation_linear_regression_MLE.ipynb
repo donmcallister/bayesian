{
 "cells": [
  {
   "cell_type": "code",
   "execution_count": 12,
   "metadata": {},
   "outputs": [],
   "source": [
    "import numpy as np\n",
    "from scipy.optimize import minimize\n",
    "import scipy.stats as stats\n",
    "import time"
   ]
  },
  {
   "cell_type": "markdown",
   "metadata": {},
   "source": [
    "### Estimating parameters using maximum likelihood approach on linear regression model.\n",
    "- Generating data using linear regression"
   ]
  },
  {
   "cell_type": "code",
   "execution_count": 9,
   "metadata": {},
   "outputs": [],
   "source": [
    "#set up x values\n",
    "x = np.linspace(0,100, num=100)\n",
    "\n",
    "#set up observed y values, y=mx + c\n",
    "yObs = 5 + 2.4*x + np.random.normal(0,4,100)\n",
    "\n",
    "#define likelihood function where params is list of initial\n",
    "#parameter estimates (initial parameter guesses): \n",
    "def regressLL(params):\n",
    "    b0 = params[0]\n",
    "    b1 = params[1]\n",
    "    sd = params[2]\n",
    "    #calculate predicted values from initial param guesses:\n",
    "    yPred = b0 + b1*x\n",
    "    #calculate negative log likelihood as negative sum of log\n",
    "    #of normal PDF where obs values are normally distrib around mean\n",
    "    logLik = -np.sum(stats.norm.logpdf(yObs, loc=yPred, scale=sd))\n",
    "    return(logLik)"
   ]
  },
  {
   "cell_type": "code",
   "execution_count": 10,
   "metadata": {},
   "outputs": [],
   "source": [
    "#create a list of initial parameter\n",
    "initParams = [1,1,1]\n",
    "\n",
    "#run minimizer\n",
    "results = minimize(regressLL, initParams, method = 'nelder-mead')"
   ]
  },
  {
   "cell_type": "code",
   "execution_count": 11,
   "metadata": {},
   "outputs": [
    {
     "name": "stdout",
     "output_type": "stream",
     "text": [
      "[5.76754128 2.39287267 4.0489526 ]\n"
     ]
    }
   ],
   "source": [
    "#print results and see how close to initial values: 5, 2.4, 4\n",
    "print(results.x)"
   ]
  },
  {
   "cell_type": "code",
   "execution_count": null,
   "metadata": {},
   "outputs": [],
   "source": []
  }
 ],
 "metadata": {
  "kernelspec": {
   "display_name": "Python 3",
   "language": "python",
   "name": "python3"
  },
  "language_info": {
   "codemirror_mode": {
    "name": "ipython",
    "version": 3
   },
   "file_extension": ".py",
   "mimetype": "text/x-python",
   "name": "python",
   "nbconvert_exporter": "python",
   "pygments_lexer": "ipython3",
   "version": "3.8.5"
  }
 },
 "nbformat": 4,
 "nbformat_minor": 4
}
